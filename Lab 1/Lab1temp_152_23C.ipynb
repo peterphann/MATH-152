{
 "cells": [
  {
   "cell_type": "markdown",
   "id": "20c00fa5",
   "metadata": {},
   "source": [
    "## MATH 152 Lab 1"
   ]
  },
  {
   "cell_type": "markdown",
   "id": "7c243ef1",
   "metadata": {},
   "source": [
    "Peter Phan, Luis Calvo Gerstner, Charles Williams (Section 530)"
   ]
  },
  {
   "cell_type": "code",
   "execution_count": 20,
   "id": "cf836732",
   "metadata": {},
   "outputs": [],
   "source": [
    "import sympy as sp\n",
    "from sympy.plotting import (plot,plot_parametric)"
   ]
  },
  {
   "cell_type": "markdown",
   "id": "a0cd9e48",
   "metadata": {},
   "source": [
    "Instructions: Complete the lab assignment in your assigned groups. Unless stated otherwise, your answers should be obtained using Python code.\n",
    "\n",
    "Do not modify the cell above, as it contains all the packages you will need. It is highly recommended to not use any additional packages.\n",
    "\n",
    "NOTE: If you took MATH 151 last semester, notice that the import statement for SymPy is different- for each SymPy command you use, you have to preface it with \"sp.\" For example, \"symbols('x')\" becomes \"sp.symbols('x')\". **Except for plot and plot_parametric**- you don't need to type \"sp.\" for those."
   ]
  },
  {
   "cell_type": "markdown",
   "id": "3169990f",
   "metadata": {},
   "source": [
    "### Question 1"
   ]
  },
  {
   "cell_type": "markdown",
   "id": "f0561a86",
   "metadata": {},
   "source": [
    "#### 1a"
   ]
  },
  {
   "cell_type": "code",
   "execution_count": 48,
   "id": "cbfab3f6",
   "metadata": {},
   "outputs": [
    {
     "data": {
      "text/latex": [
       "$\\displaystyle - 2 x^{2} + 100 x$"
      ],
      "text/plain": [
       "-2*x**2 + 100*x"
      ]
     },
     "execution_count": 48,
     "metadata": {},
     "output_type": "execute_result"
    }
   ],
   "source": [
    "#start code here\n",
    "x = sp.symbols('x',positive=True)\n",
    "area = x * (100 - 2 * x)\n",
    "area.expand()\n"
   ]
  },
  {
   "cell_type": "markdown",
   "id": "efdd616f",
   "metadata": {},
   "source": [
    "#### 1b"
   ]
  },
  {
   "cell_type": "code",
   "execution_count": 32,
   "id": "6fd5ac31",
   "metadata": {},
   "outputs": [
    {
     "name": "stdout",
     "output_type": "stream",
     "text": [
      "The area when x = 15 is 1050 sq yd.\n"
     ]
    }
   ],
   "source": [
    "#start code here\n",
    "areaSub = area.subs(x, 15)\n",
    "print('The area when x = 15 is ' + str(areaSub) + ' sq yd.')"
   ]
  },
  {
   "cell_type": "markdown",
   "id": "6889b8e7",
   "metadata": {},
   "source": [
    "#### 1c"
   ]
  },
  {
   "cell_type": "code",
   "execution_count": 29,
   "id": "d20a7a8e",
   "metadata": {},
   "outputs": [
    {
     "name": "stdout",
     "output_type": "stream",
     "text": [
      "The values of x which make A = 1200 are [20, 30].\n"
     ]
    }
   ],
   "source": [
    "#start code here\n",
    "solutions = sp.solve(area - 1200, x)\n",
    "print('The values of x which make A = 1200 are ' + str(solutions) + '.')"
   ]
  },
  {
   "cell_type": "markdown",
   "id": "3a7e1713",
   "metadata": {},
   "source": [
    "#### 1d"
   ]
  },
  {
   "cell_type": "code",
   "execution_count": 24,
   "id": "8b00ae4b",
   "metadata": {},
   "outputs": [
    {
     "data": {
      "image/png": "[encoded data removed]",
      "text/plain": [
       "<Figure size 640x480 with 1 Axes>"
      ]
     },
     "metadata": {},
     "output_type": "display_data"
    },
    {
     "data": {
      "text/plain": [
       "<sympy.plotting.plot.Plot at 0x11fc17f10>"
      ]
     },
     "execution_count": 24,
     "metadata": {},
     "output_type": "execute_result"
    }
   ],
   "source": [
    "#start code here\n",
    "\n",
    "plot(area, (x, 0, 50))\n"
   ]
  },
  {
   "cell_type": "markdown",
   "id": "588fed78",
   "metadata": {},
   "source": [
    "#### 1e"
   ]
  },
  {
   "cell_type": "code",
   "execution_count": 34,
   "id": "6063c3d4",
   "metadata": {},
   "outputs": [
    {
     "name": "stdout",
     "output_type": "stream",
     "text": [
      "The x that maximizes the closed area is [25].\n"
     ]
    }
   ],
   "source": [
    "#start code here\n",
    "derivative = sp.diff(area, x)\n",
    "critical = sp.solve(derivative, x)\n",
    "print('The x that maximizes the closed area is ' + str(critical) + '.')"
   ]
  },
  {
   "cell_type": "markdown",
   "id": "8b00f000",
   "metadata": {},
   "source": [
    "### Question 2"
   ]
  },
  {
   "cell_type": "markdown",
   "id": "bacdc1db",
   "metadata": {},
   "source": [
    "#### 2a"
   ]
  },
  {
   "cell_type": "code",
   "execution_count": 46,
   "id": "be2f2c71",
   "metadata": {},
   "outputs": [
    {
     "data": {
      "text/latex": [
       "$\\displaystyle x^{3} + 16$"
      ],
      "text/plain": [
       "x**3 + 16"
      ]
     },
     "metadata": {},
     "output_type": "display_data"
    },
    {
     "data": {
      "text/latex": [
       "$\\displaystyle 3 x^{2}$"
      ],
      "text/plain": [
       "3*x**2"
      ]
     },
     "metadata": {},
     "output_type": "display_data"
    }
   ],
   "source": [
    "#start code here\n",
    "\n",
    "u = x ** 3 + 16\n",
    "du = sp.diff(u, x)\n",
    "display(u)\n",
    "display(du)"
   ]
  },
  {
   "cell_type": "markdown",
   "id": "23bc68a6",
   "metadata": {},
   "source": [
    "#### 2b"
   ]
  },
  {
   "cell_type": "code",
   "execution_count": 64,
   "id": "357bbf0f",
   "metadata": {},
   "outputs": [
    {
     "data": {
      "text/latex": [
       "$\\displaystyle \\frac{2 \\sqrt{v} \\left(v - 16\\right)^{2}}{15} + \\frac{32 \\sqrt{v} \\left(v - 16\\right)}{45} - \\frac{1024 \\sqrt{v}}{45}$"
      ],
      "text/plain": [
       "2*sqrt(v)*(v - 16)**2/15 + 32*sqrt(v)*(v - 16)/45 - 1024*sqrt(v)/45"
      ]
     },
     "metadata": {},
     "output_type": "display_data"
    },
    {
     "data": {
      "text/latex": [
       "$\\displaystyle \\frac{2 x^{6} \\sqrt{x^{3} + 16}}{15} + \\frac{32 x^{3} \\sqrt{x^{3} + 16}}{45} - \\frac{1024 \\sqrt{x^{3} + 16}}{45}$"
      ],
      "text/plain": [
       "2*x**6*sqrt(x**3 + 16)/15 + 32*x**3*sqrt(x**3 + 16)/45 - 1024*sqrt(x**3 + 16)/45"
      ]
     },
     "metadata": {},
     "output_type": "display_data"
    }
   ],
   "source": [
    "#start code here\n",
    "\n",
    "v = sp.symbols('v')\n",
    "f = (v - 16) * sp.Rational(1, 3) * sp.sqrt(v)\n",
    "integral = sp.integrate(f)\n",
    "display(integral)\n",
    "integral_replaced = integral.subs(v, x**3 + 16)\n",
    "display(integral_replaced)"
   ]
  },
  {
   "cell_type": "markdown",
   "id": "d4c7adb9",
   "metadata": {},
   "source": [
    "#### 2c"
   ]
  },
  {
   "cell_type": "code",
   "execution_count": 65,
   "id": "e20a3063",
   "metadata": {},
   "outputs": [
    {
     "data": {
      "text/latex": [
       "$\\displaystyle \\frac{2 x^{6} \\sqrt{x^{3} + 16}}{15} + \\frac{32 x^{3} \\sqrt{x^{3} + 16}}{45} - \\frac{1024 \\sqrt{x^{3} + 16}}{45}$"
      ],
      "text/plain": [
       "2*x**6*sqrt(x**3 + 16)/15 + 32*x**3*sqrt(x**3 + 16)/45 - 1024*sqrt(x**3 + 16)/45"
      ]
     },
     "metadata": {},
     "output_type": "display_data"
    }
   ],
   "source": [
    "f = x**5 * (x**3 + 16)**sp.Rational(1, 2)\n",
    "integral_direct = sp.integrate(f_original)\n",
    "display(integral_direct)"
   ]
  },
  {
   "cell_type": "markdown",
   "id": "1ef4d714",
   "metadata": {},
   "source": [
    "#### 2d"
   ]
  },
  {
   "cell_type": "code",
   "execution_count": 66,
   "id": "4e7b3b96",
   "metadata": {},
   "outputs": [
    {
     "data": {
      "text/latex": [
       "$\\displaystyle - \\frac{986 \\sqrt{17}}{45} + \\frac{70 \\sqrt{15}}{3}$"
      ],
      "text/plain": [
       "-986*sqrt(17)/45 + 70*sqrt(15)/3"
      ]
     },
     "metadata": {},
     "output_type": "display_data"
    }
   ],
   "source": [
    "#start code here\n",
    "lower_bound = integral_direct.subs(x, -1)\n",
    "upper_bound = integral_direct.subs(x, 1)\n",
    "result = upper_bound - lower_bound\n",
    "display(result)\n"
   ]
  },
  {
   "cell_type": "markdown",
   "id": "a561777e",
   "metadata": {},
   "source": [
    "#### 2e"
   ]
  },
  {
   "cell_type": "code",
   "execution_count": 67,
   "id": "f83d69df",
   "metadata": {},
   "outputs": [
    {
     "data": {
      "text/latex": [
       "$\\displaystyle - \\frac{986 \\sqrt{17}}{45} + \\frac{70 \\sqrt{15}}{3}$"
      ],
      "text/plain": [
       "-986*sqrt(17)/45 + 70*sqrt(15)/3"
      ]
     },
     "metadata": {},
     "output_type": "display_data"
    }
   ],
   "source": [
    "#start code here\n",
    "result_direct = sp.integrate(f_original, (x, -1, 1))\n",
    "display(result_direct)\n"
   ]
  }
 ],
 "metadata": {
  "kernelspec": {
   "display_name": "Python 3 (ipykernel)",
   "language": "python",
   "name": "python3"
  },
  "language_info": {
   "codemirror_mode": {
    "name": "ipython",
    "version": 3
   },
   "file_extension": ".py",
   "mimetype": "text/x-python",
   "name": "python",
   "nbconvert_exporter": "python",
   "pygments_lexer": "ipython3",
   "version": "3.11.4"
  }
 },
 "nbformat": 4,
 "nbformat_minor": 5
}
