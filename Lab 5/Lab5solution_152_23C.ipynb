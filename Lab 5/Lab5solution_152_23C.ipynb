{
 "cells": [
  {
   "cell_type": "markdown",
   "id": "20c00fa5",
   "metadata": {},
   "source": [
    "## MATH 152 Lab 5"
   ]
  },
  {
   "cell_type": "markdown",
   "id": "7c243ef1",
   "metadata": {},
   "source": [
    "Peter Phan, Luis Calvo Gerstner, Charles Williams (Section 530)"
   ]
  },
  {
   "cell_type": "code",
   "execution_count": 2,
   "id": "cf836732",
   "metadata": {},
   "outputs": [],
   "source": [
    "import sympy as sp\n",
    "from sympy.plotting import (plot,plot_parametric)"
   ]
  },
  {
   "cell_type": "markdown",
   "id": "3169990f",
   "metadata": {},
   "source": [
    "### Question 1"
   ]
  },
  {
   "cell_type": "markdown",
   "id": "f0561a86",
   "metadata": {},
   "source": [
    "#### 1a"
   ]
  },
  {
   "cell_type": "code",
   "execution_count": 3,
   "id": "cbfab3f6",
   "metadata": {},
   "outputs": [
    {
     "data": {
      "text/plain": [
       "{A: -1, B: -3, C: 2, D: 3}"
      ]
     },
     "execution_count": 3,
     "metadata": {},
     "output_type": "execute_result"
    }
   ],
   "source": [
    "# Start your code here\n",
    "A, B, C, D = sp.symbols('A B C D')\n",
    "eq1 = A + C - 1\n",
    "eq2 = B + D\n",
    "eq3 = 2 * A + C\n",
    "eq4 = 2 * B + D + 3\n",
    "solution = sp.solve([eq1, eq2, eq3, eq4], [A, B, C, D])\n",
    "solution"
   ]
  },
  {
   "cell_type": "markdown",
   "id": "efdd616f",
   "metadata": {},
   "source": [
    "#### 1b "
   ]
  },
  {
   "cell_type": "code",
   "execution_count": 4,
   "id": "898de08d",
   "metadata": {},
   "outputs": [
    {
     "data": {
      "text/latex": [
       "$\\displaystyle - \\frac{x + 3}{x^{2} + 1} + \\frac{2 x + 3}{x^{2} + 2}$"
      ],
      "text/plain": [
       "-(x + 3)/(x**2 + 1) + (2*x + 3)/(x**2 + 2)"
      ]
     },
     "execution_count": 4,
     "metadata": {},
     "output_type": "execute_result"
    }
   ],
   "source": [
    "# Start your code here\n",
    "x = sp.symbols('x', positive=True)\n",
    "f = (x**3 - 3)/(x**4 + 3 * x**2 + 2)\n",
    "sp.apart(f)"
   ]
  },
  {
   "cell_type": "markdown",
   "id": "adba38fb",
   "metadata": {},
   "source": [
    "#### 1c"
   ]
  },
  {
   "cell_type": "code",
   "execution_count": 5,
   "id": "068e0f93",
   "metadata": {},
   "outputs": [
    {
     "data": {
      "text/latex": [
       "$\\displaystyle - \\frac{\\log{\\left(x^{2} + 1 \\right)}}{2} + \\log{\\left(x^{2} + 2 \\right)} - 3 \\operatorname{atan}{\\left(x \\right)} + \\frac{3 \\sqrt{2} \\operatorname{atan}{\\left(\\frac{\\sqrt{2} x}{2} \\right)}}{2}$"
      ],
      "text/plain": [
       "-log(x**2 + 1)/2 + log(x**2 + 2) - 3*atan(x) + 3*sqrt(2)*atan(sqrt(2)*x/2)/2"
      ]
     },
     "execution_count": 5,
     "metadata": {},
     "output_type": "execute_result"
    }
   ],
   "source": [
    "# Start your code here\n",
    "sp.integrate(f)"
   ]
  },
  {
   "cell_type": "markdown",
   "id": "8b00f000",
   "metadata": {},
   "source": [
    "### Question 2 "
   ]
  },
  {
   "cell_type": "markdown",
   "id": "ccffd0d0",
   "metadata": {},
   "source": [
    "#### 2a"
   ]
  },
  {
   "cell_type": "code",
   "execution_count": 6,
   "id": "9ebb9309",
   "metadata": {},
   "outputs": [
    {
     "name": "stdout",
     "output_type": "stream",
     "text": [
      "[123.370055013617]\n"
     ]
    }
   ],
   "source": [
    "# Start your code here\n",
    "x, a = sp.symbols('x a', positive=True)\n",
    "f = x**2 / (x**4 + a**2)\n",
    "a1 = sp.solve(sp.integrate(f, (x, 0, sp.oo)) - 0.1, a)  \n",
    "print(a1)"
   ]
  },
  {
   "cell_type": "markdown",
   "id": "baa2be1a",
   "metadata": {},
   "source": [
    "#### 2b"
   ]
  },
  {
   "cell_type": "code",
   "execution_count": 7,
   "id": "92832935",
   "metadata": {},
   "outputs": [
    {
     "name": "stdout",
     "output_type": "stream",
     "text": [
      "[log(2*E)**(1/7)]\n"
     ]
    }
   ],
   "source": [
    "# Start your code here\n",
    "f = x**6 * sp.exp(-(x**7))\n",
    "a2 = sp.solve(sp.integrate(f, (x, 1, a)) - sp.integrate(f, (x, a, sp.oo)), a)\n",
    "print(a2)"
   ]
  },
  {
   "cell_type": "markdown",
   "id": "3dcc5f6d",
   "metadata": {},
   "source": [
    "#### 2c"
   ]
  },
  {
   "cell_type": "code",
   "execution_count": 8,
   "id": "67d0a563",
   "metadata": {},
   "outputs": [
    {
     "data": {
      "text/latex": [
       "$\\displaystyle \\frac{1}{14 e}$"
      ],
      "text/plain": [
       "exp(-1)/14"
      ]
     },
     "metadata": {},
     "output_type": "display_data"
    }
   ],
   "source": [
    "# Start your code here\n",
    "sol = sp.integrate(f, (x, 1, a2))\n",
    "display(sol)"
   ]
  },
  {
   "cell_type": "markdown",
   "id": "7e20a1d3",
   "metadata": {},
   "source": [
    "### Question 3"
   ]
  },
  {
   "cell_type": "markdown",
   "id": "f695ae23",
   "metadata": {},
   "source": [
    "#### 3a"
   ]
  },
  {
   "cell_type": "code",
   "execution_count": 9,
   "id": "41756879",
   "metadata": {},
   "outputs": [
    {
     "name": "stdout",
     "output_type": "stream",
     "text": [
      "Since the integral of g(x) from 1 to ∞ is 2pi, a finite number, we can conclude that the integral converges.\n"
     ]
    }
   ],
   "source": [
    "# Start your code here\n",
    "x = sp.symbols('x')\n",
    "f = 4 * sp.atan(x) / x**2\n",
    "g = 2 * sp.pi / x**2\n",
    "sp.integrate(g, (x, 1, sp.oo))\n",
    "\n",
    "print('Since the integral of g(x) from 1 to ∞ is 2pi, a finite number, we can conclude that the integral converges.')"
   ]
  },
  {
   "cell_type": "markdown",
   "id": "35d20561",
   "metadata": {},
   "source": [
    "#### 3b"
   ]
  },
  {
   "cell_type": "code",
   "execution_count": 10,
   "id": "21ea705e",
   "metadata": {},
   "outputs": [
    {
     "data": {
      "image/png": "[encoded data removed]",
      "text/plain": [
       "<Figure size 640x480 with 1 Axes>"
      ]
     },
     "metadata": {},
     "output_type": "display_data"
    },
    {
     "data": {
      "text/plain": [
       "<sympy.plotting.plot.Plot at 0x119245a50>"
      ]
     },
     "execution_count": 10,
     "metadata": {},
     "output_type": "execute_result"
    }
   ],
   "source": [
    "# Start your code here\n",
    "plot(f, g, (x, 1, 10))"
   ]
  },
  {
   "cell_type": "markdown",
   "id": "e256ce52",
   "metadata": {},
   "source": [
    "#### 3c"
   ]
  },
  {
   "cell_type": "code",
   "execution_count": 11,
   "id": "634d3d59",
   "metadata": {},
   "outputs": [
    {
     "data": {
      "text/latex": [
       "$\\displaystyle 2 \\log{\\left(2 \\right)} + \\pi$"
      ],
      "text/plain": [
       "2*log(2) + pi"
      ]
     },
     "execution_count": 11,
     "metadata": {},
     "output_type": "execute_result"
    }
   ],
   "source": [
    "# Start your code here\n",
    "sp.integrate(f, (x, 1, sp.oo))"
   ]
  },
  {
   "cell_type": "markdown",
   "id": "809cd585",
   "metadata": {},
   "source": [
    "#### 3d"
   ]
  },
  {
   "cell_type": "code",
   "execution_count": 28,
   "id": "9e851299",
   "metadata": {},
   "outputs": [
    {
     "name": "stdout",
     "output_type": "stream",
     "text": [
      "Based on (3a) and (3b), we know that g(x) ≥ f(x) and that the integral of g(x)\n",
      "from 1 to ∞ converges. Therefore, by the comparison test, f(x) also converges.\n"
     ]
    }
   ],
   "source": [
    "# Write your answer either in comments or in a print statement.\n",
    "print('Based on (3a) and (3b), we know that g(x) ≥ f(x) and that the integral of g(x)')\n",
    "print('from 1 to ∞ converges. Therefore, by the comparison test, f(x) also converges.')"
   ]
  }
 ],
 "metadata": {
  "kernelspec": {
   "display_name": "Python 3 (ipykernel)",
   "language": "python",
   "name": "python3"
  },
  "language_info": {
   "codemirror_mode": {
    "name": "ipython",
    "version": 3
   },
   "file_extension": ".py",
   "mimetype": "text/x-python",
   "name": "python",
   "nbconvert_exporter": "python",
   "pygments_lexer": "ipython3",
   "version": "3.11.5"
  }
 },
 "nbformat": 4,
 "nbformat_minor": 5
}
