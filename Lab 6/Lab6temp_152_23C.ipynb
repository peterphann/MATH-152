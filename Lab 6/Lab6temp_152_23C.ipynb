{
 "cells": [
  {
   "cell_type": "markdown",
   "id": "20c00fa5",
   "metadata": {
    "id": "20c00fa5"
   },
   "source": [
    "## MATH 152 Lab 6"
   ]
  },
  {
   "cell_type": "markdown",
   "id": "7c243ef1",
   "metadata": {
    "id": "7c243ef1"
   },
   "source": [
    "Peter Phan, Luis Calvo Gerstner, Charles Williams (Section 530)"
   ]
  },
  {
   "cell_type": "code",
   "execution_count": 3,
   "id": "cf836732",
   "metadata": {
    "id": "cf836732"
   },
   "outputs": [],
   "source": [
    "import sympy as sp\n",
    "from sympy.plotting import (plot,plot_parametric)\n",
    "import matplotlib.pyplot as plt\n",
    "import numpy as np"
   ]
  },
  {
   "cell_type": "markdown",
   "id": "3169990f",
   "metadata": {
    "id": "3169990f"
   },
   "source": [
    "### Question 1"
   ]
  },
  {
   "cell_type": "markdown",
   "id": "f0561a86",
   "metadata": {
    "id": "f0561a86"
   },
   "source": [
    "#### 1a"
   ]
  },
  {
   "cell_type": "code",
   "execution_count": 12,
   "id": "cbfab3f6",
   "metadata": {
    "id": "cbfab3f6"
   },
   "outputs": [
    {
     "data": {
      "text/latex": [
       "$\\displaystyle \\frac{1}{s}$"
      ],
      "text/plain": [
       "1/s"
      ]
     },
     "execution_count": 12,
     "metadata": {},
     "output_type": "execute_result"
    }
   ],
   "source": [
    "s, t, = sp.symbols('s t', positive = True)\n",
    "\n",
    "f = 1\n",
    "sp.integrate(f * sp.exp(-s * t), (t,0,sp.oo))"
   ]
  },
  {
   "cell_type": "markdown",
   "id": "efdd616f",
   "metadata": {
    "id": "efdd616f"
   },
   "source": [
    "#### 1b "
   ]
  },
  {
   "cell_type": "code",
   "execution_count": 13,
   "id": "898de08d",
   "metadata": {
    "id": "898de08d"
   },
   "outputs": [
    {
     "data": {
      "text/latex": [
       "$\\displaystyle \\frac{1}{s^{2}}$"
      ],
      "text/plain": [
       "s**(-2)"
      ]
     },
     "execution_count": 13,
     "metadata": {},
     "output_type": "execute_result"
    }
   ],
   "source": [
    "f = t\n",
    "sp.integrate(f * sp.exp(-s * t), (t,0,sp.oo))"
   ]
  },
  {
   "cell_type": "markdown",
   "id": "adba38fb",
   "metadata": {
    "id": "adba38fb"
   },
   "source": [
    "#### 1c"
   ]
  },
  {
   "cell_type": "code",
   "execution_count": 14,
   "id": "068e0f93",
   "metadata": {
    "id": "068e0f93"
   },
   "outputs": [
    {
     "data": {
      "text/latex": [
       "$\\displaystyle \\frac{2}{s^{3}}$"
      ],
      "text/plain": [
       "2/s**3"
      ]
     },
     "execution_count": 14,
     "metadata": {},
     "output_type": "execute_result"
    }
   ],
   "source": [
    "f = t ** 2\n",
    "sp.integrate(f * sp.exp(-s * t), (t,0,sp.oo))"
   ]
  },
  {
   "cell_type": "markdown",
   "id": "9e7d2cbd",
   "metadata": {
    "id": "9e7d2cbd"
   },
   "source": [
    "#### 1d"
   ]
  },
  {
   "cell_type": "code",
   "execution_count": 15,
   "id": "fe942069",
   "metadata": {
    "id": "fe942069"
   },
   "outputs": [
    {
     "data": {
      "text/latex": [
       "$\\displaystyle \\frac{\\sqrt{\\pi}}{2 s^{\\frac{3}{2}}}$"
      ],
      "text/plain": [
       "sqrt(pi)/(2*s**(3/2))"
      ]
     },
     "execution_count": 15,
     "metadata": {},
     "output_type": "execute_result"
    }
   ],
   "source": [
    "f = sp.sqrt(t)\n",
    "sp.integrate(f * sp.exp(-s * t), (t,0,sp.oo))"
   ]
  },
  {
   "cell_type": "markdown",
   "id": "8b00f000",
   "metadata": {
    "id": "8b00f000"
   },
   "source": [
    "### Question 2 "
   ]
  },
  {
   "cell_type": "markdown",
   "id": "ccffd0d0",
   "metadata": {
    "id": "ccffd0d0"
   },
   "source": [
    "#### 2a"
   ]
  },
  {
   "cell_type": "code",
   "execution_count": 5,
   "id": "4618200f",
   "metadata": {
    "id": "4618200f"
   },
   "outputs": [
    {
     "data": {
      "text/latex": [
       "$\\displaystyle \\operatorname{atan}{\\left(\\frac{\\log{\\left(4^{t} \\right)}}{\\log{\\left(2 t \\right)}} \\right)}$"
      ],
      "text/plain": [
       "atan(log(4**t)/log(2*t))"
      ]
     },
     "metadata": {},
     "output_type": "display_data"
    },
    {
     "name": "stdout",
     "output_type": "stream",
     "text": [
      "[1.10714871779409, 1.10714871779409, 1.16400045841230, 1.21202565652432, 1.25007259483227, 1.28048958436759, 1.30526422898153, 1.32581766366803, 1.34314954089088, 1.35797244055367]\n",
      "The guesses value is about 1.4\n"
     ]
    }
   ],
   "source": [
    "t = sp.symbols('t', positive = True, integer = True)\n",
    "an = sp.atan(sp.log(4 ** t) / sp.log(2 * t))\n",
    "display(an)\n",
    "\n",
    "# Python indexing excludes the last integer in a range\n",
    "a_10 = [an.subs(t,i).evalf() for i in np.arange(1, 11)]\n",
    "print(a_10)\n",
    "\n",
    "print('The guesses value is about 1.4')"
   ]
  },
  {
   "cell_type": "markdown",
   "id": "baa2be1a",
   "metadata": {
    "id": "baa2be1a"
   },
   "source": [
    "#### 2b"
   ]
  },
  {
   "cell_type": "code",
   "execution_count": 7,
   "id": "ac41647f",
   "metadata": {},
   "outputs": [],
   "source": [
    "xval = np.arange(1, 51)"
   ]
  },
  {
   "cell_type": "code",
   "execution_count": 15,
   "id": "92832935",
   "metadata": {
    "id": "92832935"
   },
   "outputs": [
    {
     "name": "stdout",
     "output_type": "stream",
     "text": [
      "Looks like around 1.5\n"
     ]
    },
    {
     "data": {
      "image/png": "[encoded data removed]",
      "text/plain": [
       "<Figure size 640x480 with 1 Axes>"
      ]
     },
     "metadata": {},
     "output_type": "display_data"
    }
   ],
   "source": [
    "a_50 = [an.subs(t, i). evalf() for i in xval]\n",
    "plt.plot(xval, yval, 'o')\n",
    "\n",
    "print('Looks like around 1.5')"
   ]
  },
  {
   "cell_type": "markdown",
   "id": "3dcc5f6d",
   "metadata": {
    "id": "3dcc5f6d"
   },
   "source": [
    "#### 2c"
   ]
  },
  {
   "cell_type": "code",
   "execution_count": 16,
   "id": "67d0a563",
   "metadata": {
    "id": "67d0a563"
   },
   "outputs": [
    {
     "data": {
      "text/latex": [
       "$\\displaystyle \\lim_{t \\to \\infty} \\operatorname{atan}{\\left(\\frac{\\log{\\left(4^{t} \\right)}}{\\log{\\left(2 t \\right)}} \\right)}$"
      ],
      "text/plain": [
       "Limit(atan(log(4**t)/log(2*t)), t, oo, dir='-')"
      ]
     },
     "execution_count": 16,
     "metadata": {},
     "output_type": "execute_result"
    }
   ],
   "source": [
    "lim_an = sp.limit(an, t, sp.oo)\n",
    "lim_an"
   ]
  },
  {
   "cell_type": "markdown",
   "id": "7e20a1d3",
   "metadata": {
    "id": "7e20a1d3"
   },
   "source": [
    "### Question 3"
   ]
  },
  {
   "cell_type": "markdown",
   "id": "f695ae23",
   "metadata": {
    "id": "f695ae23"
   },
   "source": [
    "#### 3a"
   ]
  },
  {
   "cell_type": "code",
   "execution_count": 17,
   "id": "41756879",
   "metadata": {
    "id": "41756879"
   },
   "outputs": [
    {
     "name": "stdout",
     "output_type": "stream",
     "text": [
      "[7, 22, 11.0, 34.0, 17.0, 52.0, 26.0, 13.0, 40.0, 20.0, 10.0, 5.0, 16.0, 8.0, 4.0, 2.0, 1.0, 4.0, 2.0, 1.0, 4.0, 2.0, 1.0, 4.0, 2.0, 1.0, 4.0, 2.0, 1.0, 4.0, 2.0, 1.0, 4.0, 2.0, 1.0, 4.0, 2.0, 1.0, 4.0, 2.0, 1.0]\n"
     ]
    }
   ],
   "source": [
    "an = [7]\n",
    "# Pay attention to the indices :)\n",
    "for i in np.arange(1,41):\n",
    "    if an[i-1] % 2 == 0:\n",
    "        an.append(an[i - 1] / 2)\n",
    "    else:\n",
    "        an.append(3 * an[i - 1] + 1)\n",
    "        \n",
    "print(an)"
   ]
  },
  {
   "cell_type": "markdown",
   "id": "35d20561",
   "metadata": {
    "id": "35d20561"
   },
   "source": [
    "#### 3b"
   ]
  },
  {
   "cell_type": "code",
   "execution_count": 18,
   "id": "21ea705e",
   "metadata": {
    "id": "21ea705e"
   },
   "outputs": [
    {
     "name": "stdout",
     "output_type": "stream",
     "text": [
      "[12, 6.0, 3.0, 10.0, 5.0, 16.0, 8.0, 4.0, 2.0, 1.0, 4.0, 2.0, 1.0, 4.0, 2.0, 1.0, 4.0, 2.0, 1.0, 4.0, 2.0, 1.0, 4.0, 2.0, 1.0, 4.0, 2.0, 1.0, 4.0, 2.0, 1.0, 4.0, 2.0, 1.0, 4.0, 2.0, 1.0, 4.0, 2.0, 1.0, 4.0]\n"
     ]
    }
   ],
   "source": [
    "an = [12]\n",
    "for i in np.arange(1,41):\n",
    "    if an[i-1] % 2 == 0:\n",
    "        an.append(an[i - 1] / 2)\n",
    "    else:\n",
    "        an.append(3 * an[i - 1] + 1)\n",
    "        \n",
    "print(an)"
   ]
  },
  {
   "cell_type": "markdown",
   "id": "e256ce52",
   "metadata": {
    "id": "e256ce52"
   },
   "source": [
    "#### 3c"
   ]
  },
  {
   "cell_type": "code",
   "execution_count": 1,
   "id": "e46dcf48",
   "metadata": {
    "id": "e46dcf48"
   },
   "outputs": [
    {
     "name": "stdout",
     "output_type": "stream",
     "text": [
      "Prediction: Any such sequence will always reach 1 eventually, and then continue to repeat between 1, 4, and 2 infinitely.\n"
     ]
    }
   ],
   "source": [
    "# Hint: Look up Collatz conjecture\n",
    "print('Prediction: Any such sequence will always reach 1 eventually, and then continue to repeat between 1, 4, and 2 infinitely.')"
   ]
  },
  {
   "cell_type": "code",
   "execution_count": null,
   "id": "0188bf8d",
   "metadata": {},
   "outputs": [],
   "source": []
  }
 ],
 "metadata": {
  "colab": {
   "provenance": []
  },
  "kernelspec": {
   "display_name": "Python 3 (ipykernel)",
   "language": "python",
   "name": "python3"
  },
  "language_info": {
   "codemirror_mode": {
    "name": "ipython",
    "version": 3
   },
   "file_extension": ".py",
   "mimetype": "text/x-python",
   "name": "python",
   "nbconvert_exporter": "python",
   "pygments_lexer": "ipython3",
   "version": "3.11.5"
  }
 },
 "nbformat": 4,
 "nbformat_minor": 5
}
