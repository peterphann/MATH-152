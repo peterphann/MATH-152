{
 "cells": [
  {
   "cell_type": "markdown",
   "id": "20c00fa5",
   "metadata": {},
   "source": [
    "## MATH 152 Lab  3"
   ]
  },
  {
   "cell_type": "markdown",
   "id": "7c243ef1",
   "metadata": {},
   "source": [
    "Put team members' names and section number here."
   ]
  },
  {
   "cell_type": "code",
   "execution_count": 1,
   "id": "cf836732",
   "metadata": {},
   "outputs": [],
   "source": [
    "import sympy as sp\n",
    "from sympy.plotting import (plot,plot_parametric)"
   ]
  },
  {
   "cell_type": "markdown",
   "id": "5454c0c0",
   "metadata": {},
   "source": [
    "Instructions: Complete the lab assignment in your assigned groups. Unless stated otherwise, your answers should be obtained using Python code.\n",
    "\n",
    "Do not modify the cell above, as it contains all the packages you will need. It is highly recommended to not use any additional packages.\n",
    "\n",
    "NOTE: If you took MATH 151 last semester, notice that the import statement for SymPy is different- for each SymPy command you use, you have to preface it with \"sp.\" For example, \"symbols('x')\" becomes \"sp.symbols('x')\". **Except for plot and plot_parametric**- you don't need to type \"sp.\" for those.\n",
    "\n",
    "ANOTHER NOTE: Approximate answers are acceptable for all non-plotting parts of this week's lab."
   ]
  },
  {
   "cell_type": "markdown",
   "id": "3169990f",
   "metadata": {},
   "source": [
    "### Question 1"
   ]
  },
  {
   "cell_type": "markdown",
   "id": "f0561a86",
   "metadata": {},
   "source": [
    "#### 1a"
   ]
  },
  {
   "cell_type": "code",
   "execution_count": 2,
   "id": "45da70c5",
   "metadata": {},
   "outputs": [],
   "source": [
    "matplotlib notebook"
   ]
  },
  {
   "cell_type": "code",
   "execution_count": 3,
   "id": "cbfab3f6",
   "metadata": {},
   "outputs": [],
   "source": [
    "# Enter your Python code here\n"
   ]
  },
  {
   "cell_type": "markdown",
   "id": "efdd616f",
   "metadata": {},
   "source": [
    "#### 1b"
   ]
  },
  {
   "cell_type": "code",
   "execution_count": 4,
   "id": "6fd5ac31",
   "metadata": {},
   "outputs": [],
   "source": [
    "# Enter your Python code here\n"
   ]
  },
  {
   "cell_type": "markdown",
   "id": "ffb7fbf1",
   "metadata": {},
   "source": [
    "#### 1c"
   ]
  },
  {
   "cell_type": "code",
   "execution_count": 5,
   "id": "b0b7625e",
   "metadata": {},
   "outputs": [],
   "source": [
    "# Enter your Python code here\n"
   ]
  },
  {
   "cell_type": "markdown",
   "id": "8b00f000",
   "metadata": {},
   "source": [
    "### Question 2"
   ]
  },
  {
   "cell_type": "markdown",
   "id": "bacdc1db",
   "metadata": {},
   "source": [
    "#### 2a"
   ]
  },
  {
   "cell_type": "code",
   "execution_count": 6,
   "id": "be2f2c71",
   "metadata": {},
   "outputs": [],
   "source": [
    "# Enter your Python code here\n"
   ]
  },
  {
   "cell_type": "markdown",
   "id": "23bc68a6",
   "metadata": {},
   "source": [
    "#### 2b"
   ]
  },
  {
   "cell_type": "code",
   "execution_count": 7,
   "id": "357bbf0f",
   "metadata": {},
   "outputs": [],
   "source": [
    "# Enter your Python code here\n"
   ]
  },
  {
   "cell_type": "markdown",
   "id": "1fb8b9b8",
   "metadata": {},
   "source": [
    "### Question 3"
   ]
  },
  {
   "cell_type": "markdown",
   "id": "ccffd0d0",
   "metadata": {},
   "source": [
    "#### 3a"
   ]
  },
  {
   "cell_type": "code",
   "execution_count": 8,
   "id": "9ebb9309",
   "metadata": {},
   "outputs": [],
   "source": [
    "# Enter your Python code here\n"
   ]
  },
  {
   "cell_type": "markdown",
   "id": "baa2be1a",
   "metadata": {},
   "source": [
    "\n",
    "#### 3b"
   ]
  },
  {
   "cell_type": "code",
   "execution_count": 9,
   "id": "92832935",
   "metadata": {},
   "outputs": [],
   "source": [
    "# Enter your Python code here\n"
   ]
  },
  {
   "cell_type": "markdown",
   "id": "edb65ef8",
   "metadata": {},
   "source": [
    "#### 3c"
   ]
  },
  {
   "cell_type": "code",
   "execution_count": 10,
   "id": "6c67d267",
   "metadata": {},
   "outputs": [],
   "source": [
    "# Enter your Python code here\n"
   ]
  }
 ],
 "metadata": {
  "kernelspec": {
   "display_name": "Python 3 (ipykernel)",
   "language": "python",
   "name": "python3"
  },
  "language_info": {
   "codemirror_mode": {
    "name": "ipython",
    "version": 3
   },
   "file_extension": ".py",
   "mimetype": "text/x-python",
   "name": "python",
   "nbconvert_exporter": "python",
   "pygments_lexer": "ipython3",
   "version": "3.9.13"
  }
 },
 "nbformat": 4,
 "nbformat_minor": 5
}
