{
 "cells": [
  {
   "cell_type": "markdown",
   "id": "20c00fa5",
   "metadata": {},
   "source": [
    "## MATH 152 Lab 7"
   ]
  },
  {
   "cell_type": "markdown",
   "id": "7c243ef1",
   "metadata": {},
   "source": [
    "Peter Phan, Luis Calvo Gerstner, Charles Williams (Section 530)"
   ]
  },
  {
   "cell_type": "code",
   "execution_count": 2,
   "id": "cf836732",
   "metadata": {},
   "outputs": [],
   "source": [
    "import sympy as sp\n",
    "from sympy.plotting import (plot,plot_parametric)\n",
    "import matplotlib.pyplot as plt\n",
    "import numpy as np"
   ]
  },
  {
   "cell_type": "markdown",
   "id": "3169990f",
   "metadata": {},
   "source": [
    "### Question 1"
   ]
  },
  {
   "cell_type": "markdown",
   "id": "f0561a86",
   "metadata": {},
   "source": [
    "#### 1a"
   ]
  },
  {
   "cell_type": "code",
   "execution_count": 2,
   "id": "cbfab3f6",
   "metadata": {},
   "outputs": [
    {
     "data": {
      "text/latex": [
       "$\\displaystyle 0$"
      ],
      "text/plain": [
       "0"
      ]
     },
     "execution_count": 2,
     "metadata": {},
     "output_type": "execute_result"
    }
   ],
   "source": [
    "n = sp.symbols('n')\n",
    "an = (7 / 8) ** n\n",
    "sp.limit(an, n, sp.oo)"
   ]
  },
  {
   "cell_type": "markdown",
   "id": "efdd616f",
   "metadata": {},
   "source": [
    "#### 1b "
   ]
  },
  {
   "cell_type": "code",
   "execution_count": 3,
   "id": "86b0cc24",
   "metadata": {},
   "outputs": [],
   "source": [
    "matplotlib notebook"
   ]
  },
  {
   "cell_type": "code",
   "execution_count": 3,
   "id": "898de08d",
   "metadata": {},
   "outputs": [
    {
     "data": {
      "text/plain": [
       "[<matplotlib.lines.Line2D at 0x10e510590>,\n",
       " <matplotlib.lines.Line2D at 0x10e491110>]"
      ]
     },
     "execution_count": 3,
     "metadata": {},
     "output_type": "execute_result"
    },
    {
     "data": {
      "image/png": "[encoded data removed]",
      "text/plain": [
       "<Figure size 640x480 with 1 Axes>"
      ]
     },
     "metadata": {},
     "output_type": "display_data"
    }
   ],
   "source": [
    "n_index = np.arange(0, 50)\n",
    "an_terms = (7/8)**n_index\n",
    "sn_terms = np.cumsum(an_terms)\n",
    "plt.plot(n_index, an_terms, 'ro', n_index, sn_terms, 'bo')"
   ]
  },
  {
   "cell_type": "markdown",
   "id": "9e7d2cbd",
   "metadata": {},
   "source": [
    "#### 1c"
   ]
  },
  {
   "cell_type": "code",
   "execution_count": 4,
   "id": "de024572",
   "metadata": {},
   "outputs": [
    {
     "data": {
      "text/latex": [
       "$\\displaystyle 8$"
      ],
      "text/plain": [
       "8"
      ]
     },
     "execution_count": 4,
     "metadata": {},
     "output_type": "execute_result"
    }
   ],
   "source": [
    "S = sp.summation(an, (n, 0, sp.oo))\n",
    "S"
   ]
  },
  {
   "cell_type": "markdown",
   "id": "8b00f000",
   "metadata": {},
   "source": [
    "### Question 2 "
   ]
  },
  {
   "cell_type": "markdown",
   "id": "ccffd0d0",
   "metadata": {},
   "source": [
    "#### 2a"
   ]
  },
  {
   "cell_type": "code",
   "execution_count": 3,
   "id": "4618200f",
   "metadata": {},
   "outputs": [
    {
     "data": {
      "text/latex": [
       "$\\displaystyle \\left(- x^{2} - 2 x - 2\\right) e^{- x}$"
      ],
      "text/plain": [
       "(-x**2 - 2*x - 2)*exp(-x)"
      ]
     },
     "metadata": {},
     "output_type": "display_data"
    },
    {
     "data": {
      "text/latex": [
       "$\\displaystyle \\frac{5}{e}$"
      ],
      "text/plain": [
       "5*exp(-1)"
      ]
     },
     "metadata": {},
     "output_type": "display_data"
    }
   ],
   "source": [
    "n, x = sp.symbols('n x')\n",
    "an = n ** 2 * sp.exp(-n)\n",
    "f = x ** 2 * sp.exp(-x)\n",
    "\n",
    "I = sp.integrate(f, x)\n",
    "I2 = sp.integrate(f, (x, 1, sp.oo))\n",
    "\n",
    "display(I, I2)"
   ]
  },
  {
   "cell_type": "markdown",
   "id": "baa2be1a",
   "metadata": {},
   "source": [
    "#### 2b"
   ]
  },
  {
   "cell_type": "code",
   "execution_count": 4,
   "id": "92832935",
   "metadata": {},
   "outputs": [
    {
     "name": "stdout",
     "output_type": "stream",
     "text": [
      "Since the integral of f(x) from 1 to infinity converges, then the sum of a of n also converges by the integral test\n"
     ]
    }
   ],
   "source": [
    "print('Since the integral of f(x) from 1 to infinity converges, then the sum of a of n also converges by the integral test')"
   ]
  },
  {
   "cell_type": "markdown",
   "id": "3dcc5f6d",
   "metadata": {},
   "source": [
    "#### 2c"
   ]
  },
  {
   "cell_type": "code",
   "execution_count": 9,
   "id": "67d0a563",
   "metadata": {},
   "outputs": [
    {
     "name": "stdout",
     "output_type": "stream",
     "text": [
      "S_10 = 1.62084673541930\n",
      "S_50 = 1.62441532595354\n",
      "S_100 = 1.62441532595354\n",
      "S = 1.62441532595354\n"
     ]
    }
   ],
   "source": [
    "S_10 = sp.summation(an, (n, 2, 10))\n",
    "S_50 = sp.summation(an, (n, 2, 50))\n",
    "S_100 = sp.summation(an, (n, 2, 100))\n",
    "S = sp.summation(an, (n, 2, sp.oo))\n",
    "\n",
    "print(f'S_10 = {S_10.evalf()}')\n",
    "print(f'S_50 = {S_50.evalf()}')\n",
    "print(f'S_100 = {S_100.evalf()}')\n",
    "print(f'S = {S.evalf()}')"
   ]
  },
  {
   "cell_type": "markdown",
   "id": "65d0297c",
   "metadata": {},
   "source": [
    "#### 2d"
   ]
  },
  {
   "cell_type": "code",
   "execution_count": 10,
   "id": "685a3143",
   "metadata": {},
   "outputs": [
    {
     "name": "stdout",
     "output_type": "stream",
     "text": [
      "Expected range is 1.42396531975639E-40 to 3.79522151073646E-40\n",
      "The remainder 2.23423822900972E-40 falls within the expected range\n"
     ]
    }
   ],
   "source": [
    "L = sp.integrate(an, (n, 101, sp.oo))\n",
    "U = sp.integrate(an, (n, 100, sp.oo))\n",
    "\n",
    "print(f'Expected range is {L.evalf()} to {U.evalf()}')\n",
    "R = S - S_100\n",
    "\n",
    "print(f'The remainder {R.evalf()} falls within the expected range')"
   ]
  },
  {
   "cell_type": "markdown",
   "id": "e65c64dd",
   "metadata": {},
   "source": [
    "#### 2e"
   ]
  },
  {
   "cell_type": "code",
   "execution_count": 24,
   "id": "f0840f85",
   "metadata": {},
   "outputs": [
    {
     "name": "stdout",
     "output_type": "stream",
     "text": [
      "29.8876083264819\n",
      "Therefore, 30 terms are needed.\n"
     ]
    },
    {
     "data": {
      "text/latex": [
       "$\\displaystyle 5.43688168211222 \\cdot 10^{-11}$"
      ],
      "text/plain": [
       "5.43688168211222e-11"
      ]
     },
     "execution_count": 24,
     "metadata": {},
     "output_type": "execute_result"
    }
   ],
   "source": [
    "Rn = sp.integrate(f, (x, n, sp.oo))\n",
    "n_term = sp.nsolve(Rn - 1e-10, 10)\n",
    "print(n_term)\n",
    "print('Therefore, 30 terms are needed.')\n",
    "\n",
    "S_28 = sp.summation(an, (n, 2, 30)).evalf()\n",
    "remainder = S - S_28\n",
    "remainder.evalf()"
   ]
  },
  {
   "cell_type": "markdown",
   "id": "7e20a1d3",
   "metadata": {},
   "source": [
    "### Question 3"
   ]
  },
  {
   "cell_type": "markdown",
   "id": "f695ae23",
   "metadata": {},
   "source": [
    "#### 3a"
   ]
  },
  {
   "cell_type": "code",
   "execution_count": 54,
   "id": "41756879",
   "metadata": {},
   "outputs": [
    {
     "data": {
      "text/latex": [
       "$\\displaystyle \\frac{5 n^{2} - 1}{3 n^{4} + 5 n + 1}$"
      ],
      "text/plain": [
       "(5*n**2 - 1)/(3*n**4 + 5*n + 1)"
      ]
     },
     "metadata": {},
     "output_type": "display_data"
    },
    {
     "data": {
      "text/latex": [
       "$\\displaystyle \\frac{5}{3 n^{2}}$"
      ],
      "text/plain": [
       "5/(3*n**2)"
      ]
     },
     "metadata": {},
     "output_type": "display_data"
    }
   ],
   "source": [
    "an = (5 * n**2 - 1) / (3 * n**4 + 5 * n + 1)\n",
    "bn = (5 * n**2) / (3 * n**4)\n",
    "display(an, bn)"
   ]
  },
  {
   "cell_type": "markdown",
   "id": "35d20561",
   "metadata": {},
   "source": [
    "#### 3b"
   ]
  },
  {
   "cell_type": "code",
   "execution_count": 39,
   "id": "45676a9e",
   "metadata": {},
   "outputs": [],
   "source": [
    "matplotlib notebook"
   ]
  },
  {
   "cell_type": "code",
   "execution_count": 61,
   "id": "21ea705e",
   "metadata": {},
   "outputs": [
    {
     "name": "stdout",
     "output_type": "stream",
     "text": [
      "True\n"
     ]
    },
    {
     "data": {
      "image/png": "[encoded data removed]",
      "text/plain": [
       "<Figure size 640x480 with 1 Axes>"
      ]
     },
     "metadata": {},
     "output_type": "display_data"
    }
   ],
   "source": [
    "n_index = np.arange(1, 51)\n",
    "an_terms = [an.subs({n:i}) for i in n_index] \n",
    "bn_terms = [bn.subs({n:i}) for i in n_index] \n",
    "\n",
    "plt.plot(n_index, an_terms, 'ro', n_index, bn_terms, 'bo')\n",
    "print(an_terms < bn_terms)"
   ]
  },
  {
   "cell_type": "markdown",
   "id": "e256ce52",
   "metadata": {},
   "source": [
    "#### 3c"
   ]
  },
  {
   "cell_type": "code",
   "execution_count": 62,
   "id": "e46dcf48",
   "metadata": {},
   "outputs": [
    {
     "name": "stdout",
     "output_type": "stream",
     "text": [
      "Since the series bn converges by p-series (p = 2) and is larger, the series an also converges by the comparison test.\n"
     ]
    }
   ],
   "source": [
    "print('Since the series bn converges by p-series (p = 2) and is larger, the series an also converges by the comparison test.')"
   ]
  },
  {
   "cell_type": "markdown",
   "id": "f3eee26a",
   "metadata": {},
   "source": [
    "#### 3d"
   ]
  },
  {
   "cell_type": "code",
   "execution_count": null,
   "id": "784e4fa2",
   "metadata": {},
   "outputs": [],
   "source": [
    "# Leave this blank if you already drew a conclusion in Part C.\n"
   ]
  }
 ],
 "metadata": {
  "kernelspec": {
   "display_name": "Python 3 (ipykernel)",
   "language": "python",
   "name": "python3"
  },
  "language_info": {
   "codemirror_mode": {
    "name": "ipython",
    "version": 3
   },
   "file_extension": ".py",
   "mimetype": "text/x-python",
   "name": "python",
   "nbconvert_exporter": "python",
   "pygments_lexer": "ipython3",
   "version": "3.11.5"
  }
 },
 "nbformat": 4,
 "nbformat_minor": 5
}
