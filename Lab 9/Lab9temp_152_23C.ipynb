{
 "cells": [
  {
   "cell_type": "markdown",
   "id": "20c00fa5",
   "metadata": {
    "id": "20c00fa5"
   },
   "source": [
    "## MATH 152 Lab 9"
   ]
  },
  {
   "cell_type": "markdown",
   "id": "7c243ef1",
   "metadata": {
    "id": "7c243ef1"
   },
   "source": [
    "Put team members' names and section number here."
   ]
  },
  {
   "cell_type": "code",
   "execution_count": 1,
   "id": "cf836732",
   "metadata": {
    "id": "cf836732"
   },
   "outputs": [],
   "source": [
    "import sympy as sp\n",
    "from sympy.plotting import (plot,plot_parametric)\n",
    "import matplotlib.pyplot as plt\n",
    "import numpy as np"
   ]
  },
  {
   "cell_type": "markdown",
   "id": "3169990f",
   "metadata": {
    "id": "3169990f"
   },
   "source": [
    "### Question 1"
   ]
  },
  {
   "cell_type": "markdown",
   "id": "f0561a86",
   "metadata": {
    "id": "f0561a86"
   },
   "source": [
    "#### 1a"
   ]
  },
  {
   "cell_type": "code",
   "execution_count": null,
   "id": "cbfab3f6",
   "metadata": {
    "id": "cbfab3f6"
   },
   "outputs": [],
   "source": []
  },
  {
   "cell_type": "markdown",
   "id": "d0ad089c",
   "metadata": {
    "id": "d0ad089c"
   },
   "source": [
    "#### 1b"
   ]
  },
  {
   "cell_type": "code",
   "execution_count": null,
   "id": "a2801c67",
   "metadata": {
    "id": "a2801c67"
   },
   "outputs": [],
   "source": []
  },
  {
   "cell_type": "markdown",
   "id": "efdd616f",
   "metadata": {
    "id": "efdd616f"
   },
   "source": [
    "#### 1c"
   ]
  },
  {
   "cell_type": "code",
   "execution_count": null,
   "id": "898de08d",
   "metadata": {
    "id": "898de08d"
   },
   "outputs": [],
   "source": []
  },
  {
   "cell_type": "markdown",
   "id": "8b00f000",
   "metadata": {
    "id": "8b00f000"
   },
   "source": [
    "### Question 2 "
   ]
  },
  {
   "cell_type": "markdown",
   "id": "ccffd0d0",
   "metadata": {
    "id": "ccffd0d0"
   },
   "source": [
    "#### 2a"
   ]
  },
  {
   "cell_type": "code",
   "execution_count": null,
   "id": "4618200f",
   "metadata": {
    "id": "4618200f"
   },
   "outputs": [],
   "source": []
  },
  {
   "cell_type": "markdown",
   "id": "baa2be1a",
   "metadata": {
    "id": "baa2be1a"
   },
   "source": [
    "#### 2b"
   ]
  },
  {
   "cell_type": "code",
   "execution_count": null,
   "id": "92832935",
   "metadata": {
    "id": "92832935"
   },
   "outputs": [],
   "source": []
  },
  {
   "cell_type": "markdown",
   "id": "3dcc5f6d",
   "metadata": {
    "id": "3dcc5f6d"
   },
   "source": [
    "#### 2c"
   ]
  },
  {
   "cell_type": "code",
   "execution_count": null,
   "id": "67d0a563",
   "metadata": {
    "id": "67d0a563"
   },
   "outputs": [],
   "source": []
  },
  {
   "cell_type": "markdown",
   "id": "7e20a1d3",
   "metadata": {
    "id": "7e20a1d3"
   },
   "source": [
    "### Question 3"
   ]
  },
  {
   "cell_type": "markdown",
   "id": "f695ae23",
   "metadata": {
    "id": "f695ae23"
   },
   "source": [
    "#### 3a"
   ]
  },
  {
   "cell_type": "code",
   "execution_count": null,
   "id": "41756879",
   "metadata": {
    "id": "41756879"
   },
   "outputs": [],
   "source": []
  },
  {
   "cell_type": "markdown",
   "id": "35d20561",
   "metadata": {
    "id": "35d20561"
   },
   "source": [
    "#### 3b"
   ]
  },
  {
   "cell_type": "code",
   "execution_count": null,
   "id": "21ea705e",
   "metadata": {
    "id": "21ea705e"
   },
   "outputs": [],
   "source": []
  },
  {
   "cell_type": "markdown",
   "id": "VckB_5ommUpL",
   "metadata": {
    "id": "VckB_5ommUpL"
   },
   "source": [
    "#### 3c"
   ]
  },
  {
   "cell_type": "code",
   "execution_count": null,
   "id": "kSEbVRbbmVuy",
   "metadata": {
    "id": "kSEbVRbbmVuy"
   },
   "outputs": [],
   "source": []
  },
  {
   "cell_type": "markdown",
   "id": "7cec14fc",
   "metadata": {},
   "source": [
    "#### 3d"
   ]
  },
  {
   "cell_type": "code",
   "execution_count": null,
   "id": "73ab7a29",
   "metadata": {},
   "outputs": [],
   "source": []
  }
 ],
 "metadata": {
  "colab": {
   "collapsed_sections": [],
   "provenance": []
  },
  "kernelspec": {
   "display_name": "Python 3 (ipykernel)",
   "language": "python",
   "name": "python3"
  },
  "language_info": {
   "codemirror_mode": {
    "name": "ipython",
    "version": 3
   },
   "file_extension": ".py",
   "mimetype": "text/x-python",
   "name": "python",
   "nbconvert_exporter": "python",
   "pygments_lexer": "ipython3",
   "version": "3.9.18"
  }
 },
 "nbformat": 4,
 "nbformat_minor": 5
}
