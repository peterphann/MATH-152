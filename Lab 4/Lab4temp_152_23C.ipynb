{
 "cells": [
  {
   "cell_type": "markdown",
   "id": "20c00fa5",
   "metadata": {},
   "source": [
    "## MATH 152 Lab  4"
   ]
  },
  {
   "cell_type": "markdown",
   "id": "7c243ef1",
   "metadata": {},
   "source": [
    "Put team members' names and section number here."
   ]
  },
  {
   "cell_type": "code",
   "execution_count": 1,
   "id": "cf836732",
   "metadata": {},
   "outputs": [],
   "source": [
    "import numpy as np\n",
    "import sympy as sp\n",
    "from sympy.plotting import (plot, plot_parametric)"
   ]
  },
  {
   "cell_type": "markdown",
   "id": "3169990f",
   "metadata": {},
   "source": [
    "### Question 1"
   ]
  },
  {
   "cell_type": "markdown",
   "id": "f0561a86",
   "metadata": {},
   "source": [
    "#### 1a"
   ]
  },
  {
   "cell_type": "code",
   "execution_count": 2,
   "id": "cbfab3f6",
   "metadata": {},
   "outputs": [],
   "source": [
    "# start your code here\n"
   ]
  },
  {
   "cell_type": "markdown",
   "id": "efdd616f",
   "metadata": {},
   "source": [
    "#### 1b Left Endpoint Approximation"
   ]
  },
  {
   "cell_type": "code",
   "execution_count": 3,
   "id": "898de08d",
   "metadata": {},
   "outputs": [],
   "source": [
    "# start your code here\n"
   ]
  },
  {
   "cell_type": "markdown",
   "id": "8b00f000",
   "metadata": {},
   "source": [
    "### Question 2 Right Endpoint Approximation"
   ]
  },
  {
   "cell_type": "code",
   "execution_count": 4,
   "id": "be2f2c71",
   "metadata": {},
   "outputs": [],
   "source": [
    "# start your code here\n"
   ]
  },
  {
   "cell_type": "markdown",
   "id": "1fb8b9b8",
   "metadata": {},
   "source": [
    "### Question 3 Midpoint Approximation"
   ]
  },
  {
   "cell_type": "markdown",
   "id": "ccffd0d0",
   "metadata": {},
   "source": [
    "#### 3a"
   ]
  },
  {
   "cell_type": "code",
   "execution_count": 5,
   "id": "9ebb9309",
   "metadata": {},
   "outputs": [],
   "source": [
    "# start your code here\n"
   ]
  },
  {
   "cell_type": "markdown",
   "id": "baa2be1a",
   "metadata": {},
   "source": [
    "#### 3b"
   ]
  },
  {
   "cell_type": "code",
   "execution_count": 6,
   "id": "92832935",
   "metadata": {},
   "outputs": [],
   "source": [
    "# start your code here\n"
   ]
  },
  {
   "cell_type": "markdown",
   "id": "7e20a1d3",
   "metadata": {},
   "source": [
    "### Question 4 Trapezoid Approximation"
   ]
  },
  {
   "cell_type": "markdown",
   "id": "f695ae23",
   "metadata": {},
   "source": [
    "#### 4a"
   ]
  },
  {
   "cell_type": "code",
   "execution_count": 7,
   "id": "41756879",
   "metadata": {},
   "outputs": [],
   "source": [
    "# start your code here\n"
   ]
  },
  {
   "cell_type": "markdown",
   "id": "35d20561",
   "metadata": {},
   "source": [
    "#### 4b"
   ]
  },
  {
   "cell_type": "code",
   "execution_count": 8,
   "id": "21ea705e",
   "metadata": {},
   "outputs": [],
   "source": [
    "# Write your answer as either a comment or a print statement.\n"
   ]
  },
  {
   "cell_type": "markdown",
   "id": "061c207e",
   "metadata": {},
   "source": [
    "### Question 5 Simpson's Rule"
   ]
  },
  {
   "cell_type": "code",
   "execution_count": 9,
   "id": "82c61cf9",
   "metadata": {},
   "outputs": [],
   "source": [
    "# start your code here\n"
   ]
  },
  {
   "cell_type": "markdown",
   "id": "adb2f208",
   "metadata": {},
   "source": [
    "### Question 6 Errors"
   ]
  },
  {
   "cell_type": "code",
   "execution_count": 10,
   "id": "ff13aa14",
   "metadata": {},
   "outputs": [],
   "source": [
    "# start your code here\n"
   ]
  }
 ],
 "metadata": {
  "kernelspec": {
   "display_name": "Python 3 (ipykernel)",
   "language": "python",
   "name": "python3"
  },
  "language_info": {
   "codemirror_mode": {
    "name": "ipython",
    "version": 3
   },
   "file_extension": ".py",
   "mimetype": "text/x-python",
   "name": "python",
   "nbconvert_exporter": "python",
   "pygments_lexer": "ipython3",
   "version": "3.9.13"
  }
 },
 "nbformat": 4,
 "nbformat_minor": 5
}
