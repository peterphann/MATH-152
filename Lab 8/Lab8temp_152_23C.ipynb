{
 "cells": [
  {
   "cell_type": "markdown",
   "id": "20c00fa5",
   "metadata": {
    "id": "20c00fa5"
   },
   "source": [
    "## MATH 152 Lab 8"
   ]
  },
  {
   "cell_type": "markdown",
   "id": "7c243ef1",
   "metadata": {
    "id": "7c243ef1"
   },
   "source": [
    "Peter Phan, Luis Calvo Gerstner, Charles Williams (Section 530)"
   ]
  },
  {
   "cell_type": "code",
   "execution_count": 2,
   "id": "cf836732",
   "metadata": {
    "id": "cf836732"
   },
   "outputs": [],
   "source": [
    "import sympy as sp\n",
    "import math\n",
    "from sympy.plotting import (plot,plot_parametric)\n",
    "import matplotlib.pyplot as plt\n",
    "import numpy as np"
   ]
  },
  {
   "cell_type": "markdown",
   "id": "3169990f",
   "metadata": {
    "id": "3169990f"
   },
   "source": [
    "### Question 1"
   ]
  },
  {
   "cell_type": "markdown",
   "id": "f0561a86",
   "metadata": {
    "id": "f0561a86"
   },
   "source": [
    "#### 1a"
   ]
  },
  {
   "cell_type": "code",
   "execution_count": 2,
   "id": "cbfab3f6",
   "metadata": {
    "id": "cbfab3f6"
   },
   "outputs": [],
   "source": [
    "matplotlib notebook"
   ]
  },
  {
   "cell_type": "code",
   "execution_count": 3,
   "id": "9b9c9c38",
   "metadata": {},
   "outputs": [
    {
     "data": {
      "image/png": "[encoded data removed]",
      "text/plain": [
       "<Figure size 640x480 with 1 Axes>"
      ]
     },
     "metadata": {},
     "output_type": "display_data"
    },
    {
     "name": "stdout",
     "output_type": "stream",
     "text": [
      "From the graph, we need 4 terms to sum the series to within 0.00005\n"
     ]
    }
   ],
   "source": [
    "n = sp.symbols('n')\n",
    "f_n = (n + 1)**3 / sp.exp(4*n+2)\n",
    "p1 = plot(f_n, 0.00005, (n, 0, 5), ylim = [0, 0.0001])\n",
    "\n",
    "print('From the graph, we need 4 terms to sum the series to within 0.00005')"
   ]
  },
  {
   "cell_type": "markdown",
   "id": "d0ad089c",
   "metadata": {
    "id": "d0ad089c"
   },
   "source": [
    "#### 1b"
   ]
  },
  {
   "cell_type": "code",
   "execution_count": 4,
   "id": "a2801c67",
   "metadata": {
    "id": "a2801c67"
   },
   "outputs": [
    {
     "name": "stdout",
     "output_type": "stream",
     "text": [
      "3.01918038656201\n",
      "Therefore, we need 4 terms to sum the series within 0.00005\n"
     ]
    }
   ],
   "source": [
    "print(sp.nsolve(f_n - 0.00005, n, 3))\n",
    "print('Therefore, we need 4 terms to sum the series within 0.00005')\n"
   ]
  },
  {
   "cell_type": "markdown",
   "id": "efdd616f",
   "metadata": {
    "id": "efdd616f"
   },
   "source": [
    "#### 1c"
   ]
  },
  {
   "cell_type": "code",
   "execution_count": 5,
   "id": "898de08d",
   "metadata": {
    "id": "898de08d"
   },
   "outputs": [
    {
     "data": {
      "text/latex": [
       "$\\displaystyle -0.116677846088846$"
      ],
      "text/plain": [
       "-0.116677846088846"
      ]
     },
     "execution_count": 5,
     "metadata": {},
     "output_type": "execute_result"
    }
   ],
   "source": [
    "an = (-1)**n * n**3/sp.exp(4*n - 2)\n",
    "sp.summation(an, (n, 1, 4)).evalf()"
   ]
  },
  {
   "cell_type": "markdown",
   "id": "8b00f000",
   "metadata": {
    "id": "8b00f000"
   },
   "source": [
    "### Question 2 "
   ]
  },
  {
   "cell_type": "markdown",
   "id": "ccffd0d0",
   "metadata": {
    "id": "ccffd0d0"
   },
   "source": [
    "#### 2a"
   ]
  },
  {
   "cell_type": "code",
   "execution_count": 6,
   "id": "4618200f",
   "metadata": {
    "id": "4618200f"
   },
   "outputs": [
    {
     "name": "stdout",
     "output_type": "stream",
     "text": [
      "1.00000000000000\n",
      "1000.00000000000\n",
      "500000.000000000\n",
      "166666666.666667\n",
      "41666666666.6667\n",
      "8333333333333.33\n",
      "1.38888888888889e+15\n",
      "1.98412698412698e+17\n",
      "2.48015873015873e+19\n",
      "2.75573192239859e+21\n",
      "2.75573192239859e+23\n",
      "I expect the series to diverge as the terms appear to be rapidly increasing to infinity.\n"
     ]
    }
   ],
   "source": [
    "n = sp.symbols('n')\n",
    "bn = 1000**n/sp.factorial(n)\n",
    "\n",
    "nindex = np.arange(0, 11)\n",
    "for i in nindex:\n",
    "  print(bn.subs(n, i).evalf())\n",
    "\n",
    "print('I expect the series to diverge as the terms appear to be rapidly increasing to infinity.')"
   ]
  },
  {
   "cell_type": "markdown",
   "id": "baa2be1a",
   "metadata": {
    "id": "baa2be1a"
   },
   "source": [
    "#### 2b"
   ]
  },
  {
   "cell_type": "code",
   "execution_count": 7,
   "id": "92832935",
   "metadata": {
    "id": "92832935"
   },
   "outputs": [
    {
     "data": {
      "text/latex": [
       "$\\displaystyle 0$"
      ],
      "text/plain": [
       "0"
      ]
     },
     "execution_count": 7,
     "metadata": {},
     "output_type": "execute_result"
    }
   ],
   "source": [
    "ratio = sp.Abs((1000**(n+1) / sp.factorial(n + 1)) / (1000**n / sp.factorial(n)))\n",
    "sp.limit(ratio, n, sp.oo)\n",
    "\n",
    "\n"
   ]
  },
  {
   "cell_type": "markdown",
   "id": "3dcc5f6d",
   "metadata": {
    "id": "3dcc5f6d"
   },
   "source": [
    "#### 2c"
   ]
  },
  {
   "cell_type": "code",
   "execution_count": 8,
   "id": "67d0a563",
   "metadata": {
    "id": "67d0a563"
   },
   "outputs": [
    {
     "name": "stdout",
     "output_type": "stream",
     "text": [
      "Since the limit is 0, by ratio test we can conclude that the series 1000^n/n! from 0 to infinity is absolutely convergent.\n"
     ]
    }
   ],
   "source": [
    "print('Since the limit is 0, by ratio test we can conclude that the series 1000^n/n! from 0 to infinity is absolutely convergent.')"
   ]
  },
  {
   "cell_type": "markdown",
   "id": "7e20a1d3",
   "metadata": {
    "id": "7e20a1d3"
   },
   "source": [
    "### Question 3"
   ]
  },
  {
   "cell_type": "markdown",
   "id": "f695ae23",
   "metadata": {
    "id": "f695ae23"
   },
   "source": [
    "#### 3a"
   ]
  },
  {
   "cell_type": "code",
   "execution_count": 9,
   "id": "41756879",
   "metadata": {
    "id": "41756879"
   },
   "outputs": [
    {
     "name": "stdout",
     "output_type": "stream",
     "text": [
      "The limit as n approaches infinity is x**6. Therefore, the radius of convergence is 1\n",
      "and we must check the endpoints at -1 and 1.\n"
     ]
    }
   ],
   "source": [
    "x = sp.symbols('x', real = True)\n",
    "cn = (-1)**n * x**(6*n + 5)/(2*n + 1)\n",
    "cn1 = (-1)**(n+1) * x**(6*n + 11)/(2*n + 3)\n",
    "\n",
    "ratio2 = sp.Abs(cn1 / cn).simplify()\n",
    "rLimit = sp.limit(ratio2, n, sp.oo)\n",
    "print(f'The limit as n approaches infinity is {rLimit}. Therefore, the radius of convergence is 1\\nand we must check the endpoints at -1 and 1.')"
   ]
  },
  {
   "cell_type": "markdown",
   "id": "35d20561",
   "metadata": {
    "id": "35d20561"
   },
   "source": [
    "#### 3b"
   ]
  },
  {
   "cell_type": "code",
   "execution_count": 45,
   "id": "21ea705e",
   "metadata": {
    "id": "21ea705e"
   },
   "outputs": [
    {
     "name": "stdout",
     "output_type": "stream",
     "text": [
      "0 0\n",
      "Since the absolute value of both series approaches 0 as n approaches infinity, the series converges\n",
      "at x = -1 and 1 by the alternating series test. Therefore, the interval of convergence is [-1, 1].\n"
     ]
    }
   ],
   "source": [
    "# Check endpoints\n",
    "cn_1 = (-1)**n/(2*n + 1)\n",
    "cn_n1 = (-1)**(7*n + 5)/(2*n + 1)\n",
    "\n",
    "lim1 = sp.limit(sp.Abs(cn_1), n, sp.oo)\n",
    "lim2 = sp.limit(sp.Abs(cn_n1), n, sp.oo)\n",
    "print(lim1, lim2)\n",
    "print('Since the absolute value of both series approaches 0 as n approaches infinity, the series converges')\n",
    "print('at x = -1 and 1 by the alternating series test. Therefore, the interval of convergence is [-1, 1].')\n",
    "\n"
   ]
  },
  {
   "cell_type": "markdown",
   "id": "9e7d2cbd",
   "metadata": {
    "id": "9e7d2cbd"
   },
   "source": [
    "#### 3c"
   ]
  },
  {
   "cell_type": "code",
   "execution_count": 48,
   "id": "de024572",
   "metadata": {
    "id": "de024572"
   },
   "outputs": [
    {
     "data": {
      "text/latex": [
       "$\\displaystyle - \\frac{x^{11}}{3} + x^{5}$"
      ],
      "text/plain": [
       "-x**11/3 + x**5"
      ]
     },
     "metadata": {},
     "output_type": "display_data"
    },
    {
     "data": {
      "text/latex": [
       "$\\displaystyle - \\frac{x^{23}}{7} + \\frac{x^{17}}{5} - \\frac{x^{11}}{3} + x^{5}$"
      ],
      "text/plain": [
       "-x**23/7 + x**17/5 - x**11/3 + x**5"
      ]
     },
     "metadata": {},
     "output_type": "display_data"
    },
    {
     "data": {
      "text/latex": [
       "$\\displaystyle - \\frac{x^{35}}{11} + \\frac{x^{29}}{9} - \\frac{x^{23}}{7} + \\frac{x^{17}}{5} - \\frac{x^{11}}{3} + x^{5}$"
      ],
      "text/plain": [
       "-x**35/11 + x**29/9 - x**23/7 + x**17/5 - x**11/3 + x**5"
      ]
     },
     "metadata": {},
     "output_type": "display_data"
    }
   ],
   "source": [
    "s1 = sp.summation(cn, (n, 0, 1))\n",
    "s3 = sp.summation(cn, (n, 0, 3))\n",
    "s5 = sp.summation(cn, (n, 0, 5))\n",
    "display(s1)\n",
    "display(s3)\n",
    "display(s5)"
   ]
  },
  {
   "cell_type": "markdown",
   "id": "13a8c083",
   "metadata": {
    "id": "13a8c083"
   },
   "source": [
    "#### 3d"
   ]
  },
  {
   "cell_type": "code",
   "execution_count": null,
   "id": "519d6551",
   "metadata": {},
   "outputs": [],
   "source": [
    "matplotlib notebook"
   ]
  },
  {
   "cell_type": "code",
   "execution_count": 50,
   "id": "d5d710b3",
   "metadata": {
    "id": "d5d710b3"
   },
   "outputs": [
    {
     "data": {
      "image/png": "[encoded data removed]",
      "text/plain": [
       "<Figure size 640x480 with 1 Axes>"
      ]
     },
     "metadata": {},
     "output_type": "display_data"
    }
   ],
   "source": [
    "f = x**2 * sp.atan(x ** 3)\n",
    "p1 = plot(f, s1, s3, s5, (x, -1, 1))"
   ]
  }
 ],
 "metadata": {
  "colab": {
   "provenance": []
  },
  "kernelspec": {
   "display_name": "Python 3 (ipykernel)",
   "language": "python",
   "name": "python3"
  },
  "language_info": {
   "codemirror_mode": {
    "name": "ipython",
    "version": 3
   },
   "file_extension": ".py",
   "mimetype": "text/x-python",
   "name": "python",
   "nbconvert_exporter": "python",
   "pygments_lexer": "ipython3",
   "version": "3.11.5"
  }
 },
 "nbformat": 4,
 "nbformat_minor": 5
}
